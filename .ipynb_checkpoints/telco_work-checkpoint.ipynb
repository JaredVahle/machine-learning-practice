{
 "cells": [
  {
   "cell_type": "code",
   "execution_count": 24,
   "id": "05bd3a04",
   "metadata": {},
   "outputs": [],
   "source": [
    "from math import sqrt\n",
    "from scipy import stats\n",
    "import matplotlib.pyplot as plt\n",
    "import numpy as np\n",
    "import pandas as pd\n",
    "import seaborn as sns\n",
    "from sklearn.model_selection import train_test_split\n",
    "from sklearn.impute import SimpleImputer"
   ]
  },
  {
   "cell_type": "code",
   "execution_count": 25,
   "id": "18103989",
   "metadata": {},
   "outputs": [],
   "source": [
    "df = pd.read_csv(\"/Users/jaredvahle/CodeUp-Datascience/machine-learning-practice/telco_churn_data.csv\")"
   ]
  },
  {
   "cell_type": "code",
   "execution_count": 26,
   "id": "858fc33c",
   "metadata": {},
   "outputs": [
    {
     "data": {
      "text/html": [
       "<div>\n",
       "<style scoped>\n",
       "    .dataframe tbody tr th:only-of-type {\n",
       "        vertical-align: middle;\n",
       "    }\n",
       "\n",
       "    .dataframe tbody tr th {\n",
       "        vertical-align: top;\n",
       "    }\n",
       "\n",
       "    .dataframe thead th {\n",
       "        text-align: right;\n",
       "    }\n",
       "</style>\n",
       "<table border=\"1\" class=\"dataframe\">\n",
       "  <thead>\n",
       "    <tr style=\"text-align: right;\">\n",
       "      <th></th>\n",
       "      <th>customer_id</th>\n",
       "      <th>gender</th>\n",
       "      <th>is_senior_citizen</th>\n",
       "      <th>partner</th>\n",
       "      <th>dependents</th>\n",
       "      <th>phone_service</th>\n",
       "      <th>internet_service</th>\n",
       "      <th>contract_type</th>\n",
       "      <th>payment_type</th>\n",
       "      <th>monthly_charges</th>\n",
       "      <th>...</th>\n",
       "      <th>has_churned</th>\n",
       "      <th>has_phone</th>\n",
       "      <th>has_internet</th>\n",
       "      <th>has_phone_and_internet</th>\n",
       "      <th>partner_dependents</th>\n",
       "      <th>tenure_added_to_now</th>\n",
       "      <th>Average_monthly_charges</th>\n",
       "      <th>contract_type.1</th>\n",
       "      <th>phone_type</th>\n",
       "      <th>internet_type</th>\n",
       "    </tr>\n",
       "  </thead>\n",
       "  <tbody>\n",
       "    <tr>\n",
       "      <th>0</th>\n",
       "      <td>0002-ORFBO</td>\n",
       "      <td>Female</td>\n",
       "      <td>0</td>\n",
       "      <td>Yes</td>\n",
       "      <td>Yes</td>\n",
       "      <td>1</td>\n",
       "      <td>1</td>\n",
       "      <td>1</td>\n",
       "      <td>Mailed check</td>\n",
       "      <td>$65.60</td>\n",
       "      <td>...</td>\n",
       "      <td>False</td>\n",
       "      <td>True</td>\n",
       "      <td>True</td>\n",
       "      <td>True</td>\n",
       "      <td>3</td>\n",
       "      <td>20201112</td>\n",
       "      <td>$65.60</td>\n",
       "      <td>1 Year</td>\n",
       "      <td>Two or More Lines</td>\n",
       "      <td>DSL</td>\n",
       "    </tr>\n",
       "    <tr>\n",
       "      <th>1</th>\n",
       "      <td>0003-MKNFE</td>\n",
       "      <td>Male</td>\n",
       "      <td>0</td>\n",
       "      <td>No</td>\n",
       "      <td>No</td>\n",
       "      <td>2</td>\n",
       "      <td>1</td>\n",
       "      <td>0</td>\n",
       "      <td>Mailed check</td>\n",
       "      <td>$59.90</td>\n",
       "      <td>...</td>\n",
       "      <td>False</td>\n",
       "      <td>True</td>\n",
       "      <td>True</td>\n",
       "      <td>True</td>\n",
       "      <td>0</td>\n",
       "      <td>20201112</td>\n",
       "      <td>$59.90</td>\n",
       "      <td>Month-to-Month</td>\n",
       "      <td>One Line</td>\n",
       "      <td>Fiber Optic</td>\n",
       "    </tr>\n",
       "    <tr>\n",
       "      <th>2</th>\n",
       "      <td>0004-TLHLJ</td>\n",
       "      <td>Male</td>\n",
       "      <td>0</td>\n",
       "      <td>No</td>\n",
       "      <td>No</td>\n",
       "      <td>1</td>\n",
       "      <td>2</td>\n",
       "      <td>0</td>\n",
       "      <td>Electronic check</td>\n",
       "      <td>$73.90</td>\n",
       "      <td>...</td>\n",
       "      <td>True</td>\n",
       "      <td>True</td>\n",
       "      <td>True</td>\n",
       "      <td>True</td>\n",
       "      <td>0</td>\n",
       "      <td>20210421</td>\n",
       "      <td>$73.90</td>\n",
       "      <td>Month-to-Month</td>\n",
       "      <td>One Line</td>\n",
       "      <td>Fiber Optic</td>\n",
       "    </tr>\n",
       "    <tr>\n",
       "      <th>3</th>\n",
       "      <td>0011-IGKFF</td>\n",
       "      <td>Male</td>\n",
       "      <td>1</td>\n",
       "      <td>Yes</td>\n",
       "      <td>No</td>\n",
       "      <td>1</td>\n",
       "      <td>2</td>\n",
       "      <td>0</td>\n",
       "      <td>Electronic check</td>\n",
       "      <td>$98.00</td>\n",
       "      <td>...</td>\n",
       "      <td>True</td>\n",
       "      <td>True</td>\n",
       "      <td>True</td>\n",
       "      <td>True</td>\n",
       "      <td>1</td>\n",
       "      <td>20200726</td>\n",
       "      <td>$98.00</td>\n",
       "      <td>Month-to-Month</td>\n",
       "      <td>One Line</td>\n",
       "      <td>Fiber Optic</td>\n",
       "    </tr>\n",
       "    <tr>\n",
       "      <th>4</th>\n",
       "      <td>0013-EXCHZ</td>\n",
       "      <td>Female</td>\n",
       "      <td>1</td>\n",
       "      <td>Yes</td>\n",
       "      <td>No</td>\n",
       "      <td>1</td>\n",
       "      <td>2</td>\n",
       "      <td>0</td>\n",
       "      <td>Mailed check</td>\n",
       "      <td>$83.90</td>\n",
       "      <td>...</td>\n",
       "      <td>True</td>\n",
       "      <td>True</td>\n",
       "      <td>True</td>\n",
       "      <td>True</td>\n",
       "      <td>1</td>\n",
       "      <td>20210510</td>\n",
       "      <td>$83.90</td>\n",
       "      <td>Month-to-Month</td>\n",
       "      <td>One Line</td>\n",
       "      <td>DSL</td>\n",
       "    </tr>\n",
       "  </tbody>\n",
       "</table>\n",
       "<p>5 rows × 25 columns</p>\n",
       "</div>"
      ],
      "text/plain": [
       "  customer_id  gender  is_senior_citizen partner dependents  phone_service  \\\n",
       "0  0002-ORFBO  Female                  0     Yes        Yes              1   \n",
       "1  0003-MKNFE    Male                  0      No         No              2   \n",
       "2  0004-TLHLJ    Male                  0      No         No              1   \n",
       "3  0011-IGKFF    Male                  1     Yes         No              1   \n",
       "4  0013-EXCHZ  Female                  1     Yes         No              1   \n",
       "\n",
       "   internet_service  contract_type      payment_type monthly_charges  ...  \\\n",
       "0                 1              1      Mailed check          $65.60  ...   \n",
       "1                 1              0      Mailed check          $59.90  ...   \n",
       "2                 2              0  Electronic check          $73.90  ...   \n",
       "3                 2              0  Electronic check          $98.00  ...   \n",
       "4                 2              0      Mailed check          $83.90  ...   \n",
       "\n",
       "  has_churned has_phone  has_internet  has_phone_and_internet  \\\n",
       "0       False      True          True                    True   \n",
       "1       False      True          True                    True   \n",
       "2        True      True          True                    True   \n",
       "3        True      True          True                    True   \n",
       "4        True      True          True                    True   \n",
       "\n",
       "   partner_dependents  tenure_added_to_now  Average_monthly_charges  \\\n",
       "0                   3             20201112                   $65.60   \n",
       "1                   0             20201112                   $59.90   \n",
       "2                   0             20210421                   $73.90   \n",
       "3                   1             20200726                   $98.00   \n",
       "4                   1             20210510                   $83.90   \n",
       "\n",
       "   contract_type.1         phone_type  internet_type  \n",
       "0           1 Year  Two or More Lines            DSL  \n",
       "1   Month-to-Month           One Line    Fiber Optic  \n",
       "2   Month-to-Month           One Line    Fiber Optic  \n",
       "3   Month-to-Month           One Line    Fiber Optic  \n",
       "4   Month-to-Month           One Line            DSL  \n",
       "\n",
       "[5 rows x 25 columns]"
      ]
     },
     "execution_count": 26,
     "metadata": {},
     "output_type": "execute_result"
    }
   ],
   "source": [
    "df.head()"
   ]
  },
  {
   "cell_type": "code",
   "execution_count": 27,
   "id": "4a53e961",
   "metadata": {},
   "outputs": [
    {
     "data": {
      "text/plain": [
       "Index(['customer_id', 'gender', 'is_senior_citizen', 'partner', 'dependents',\n",
       "       'phone_service', 'internet_service', 'contract_type', 'payment_type',\n",
       "       'monthly_charges', 'total_charges', 'churn', 'Tenure', 'Tenure_cleaned',\n",
       "       'is_female', 'has_churned', 'has_phone', 'has_internet',\n",
       "       'has_phone_and_internet', 'partner_dependents', 'tenure_added_to_now',\n",
       "       'Average_monthly_charges', 'contract_type.1', 'phone_type',\n",
       "       'internet_type'],\n",
       "      dtype='object')"
      ]
     },
     "execution_count": 27,
     "metadata": {},
     "output_type": "execute_result"
    }
   ],
   "source": [
    "df.columns"
   ]
  },
  {
   "cell_type": "code",
   "execution_count": 28,
   "id": "78432b7c",
   "metadata": {},
   "outputs": [
    {
     "data": {
      "text/plain": [
       "customer_id                 object\n",
       "gender                      object\n",
       "is_senior_citizen            int64\n",
       "partner                     object\n",
       "dependents                  object\n",
       "phone_service                int64\n",
       "internet_service             int64\n",
       "contract_type                int64\n",
       "payment_type                object\n",
       "monthly_charges             object\n",
       "total_charges               object\n",
       "churn                       object\n",
       "Tenure                     float64\n",
       "Tenure_cleaned               int64\n",
       "is_female                     bool\n",
       "has_churned                   bool\n",
       "has_phone                     bool\n",
       "has_internet                  bool\n",
       "has_phone_and_internet        bool\n",
       "partner_dependents           int64\n",
       "tenure_added_to_now          int64\n",
       "Average_monthly_charges     object\n",
       "contract_type.1             object\n",
       "phone_type                  object\n",
       "internet_type               object\n",
       "dtype: object"
      ]
     },
     "execution_count": 28,
     "metadata": {},
     "output_type": "execute_result"
    }
   ],
   "source": [
    "df.dtypes"
   ]
  },
  {
   "cell_type": "code",
   "execution_count": 29,
   "id": "21a0c641",
   "metadata": {},
   "outputs": [],
   "source": [
    "df = df.drop(columns = [\"Tenure\"])"
   ]
  },
  {
   "cell_type": "code",
   "execution_count": 30,
   "id": "a9131c6c",
   "metadata": {},
   "outputs": [
    {
     "data": {
      "text/plain": [
       "Index(['customer_id', 'gender', 'is_senior_citizen', 'partner', 'dependents',\n",
       "       'phone_service', 'internet_service', 'contract_type', 'payment_type',\n",
       "       'monthly_charges', 'total_charges', 'churn', 'Tenure_cleaned',\n",
       "       'is_female', 'has_churned', 'has_phone', 'has_internet',\n",
       "       'has_phone_and_internet', 'partner_dependents', 'tenure_added_to_now',\n",
       "       'Average_monthly_charges', 'contract_type.1', 'phone_type',\n",
       "       'internet_type'],\n",
       "      dtype='object')"
      ]
     },
     "execution_count": 30,
     "metadata": {},
     "output_type": "execute_result"
    }
   ],
   "source": [
    "df.columns"
   ]
  },
  {
   "cell_type": "code",
   "execution_count": 31,
   "id": "271b15c8",
   "metadata": {},
   "outputs": [
    {
     "data": {
      "text/plain": [
       "945     NaN\n",
       "1731    NaN\n",
       "1906    NaN\n",
       "2025    NaN\n",
       "2176    NaN\n",
       "2250    NaN\n",
       "2855    NaN\n",
       "3052    NaN\n",
       "3118    NaN\n",
       "4054    NaN\n",
       "5433    NaN\n",
       "Name: total_charges, dtype: object"
      ]
     },
     "execution_count": 31,
     "metadata": {},
     "output_type": "execute_result"
    }
   ],
   "source": [
    "df[df.Tenure_cleaned == 0].total_charges"
   ]
  },
  {
   "cell_type": "code",
   "execution_count": 32,
   "id": "46a0fd68",
   "metadata": {},
   "outputs": [
    {
     "data": {
      "text/plain": [
       "169032"
      ]
     },
     "execution_count": 32,
     "metadata": {},
     "output_type": "execute_result"
    }
   ],
   "source": [
    "df.size"
   ]
  },
  {
   "cell_type": "code",
   "execution_count": 33,
   "id": "72edece5",
   "metadata": {},
   "outputs": [],
   "source": [
    "df.dropna(inplace = True)"
   ]
  },
  {
   "cell_type": "code",
   "execution_count": 34,
   "id": "362f7c6f",
   "metadata": {},
   "outputs": [
    {
     "data": {
      "text/plain": [
       "168768"
      ]
     },
     "execution_count": 34,
     "metadata": {},
     "output_type": "execute_result"
    }
   ],
   "source": [
    "df.size"
   ]
  },
  {
   "cell_type": "code",
   "execution_count": 36,
   "id": "7fcac7c4",
   "metadata": {},
   "outputs": [
    {
     "data": {
      "text/plain": [
       "customer_id                0\n",
       "gender                     0\n",
       "is_senior_citizen          0\n",
       "partner                    0\n",
       "dependents                 0\n",
       "phone_service              0\n",
       "internet_service           0\n",
       "contract_type              0\n",
       "payment_type               0\n",
       "monthly_charges            0\n",
       "total_charges              0\n",
       "churn                      0\n",
       "Tenure_cleaned             0\n",
       "is_female                  0\n",
       "has_churned                0\n",
       "has_phone                  0\n",
       "has_internet               0\n",
       "has_phone_and_internet     0\n",
       "partner_dependents         0\n",
       "tenure_added_to_now        0\n",
       "Average_monthly_charges    0\n",
       "contract_type.1            0\n",
       "phone_type                 0\n",
       "internet_type              0\n",
       "dtype: int64"
      ]
     },
     "execution_count": 36,
     "metadata": {},
     "output_type": "execute_result"
    }
   ],
   "source": [
    "df.isnull().sum()"
   ]
  },
  {
   "cell_type": "code",
   "execution_count": 38,
   "id": "8a0ca038",
   "metadata": {},
   "outputs": [],
   "source": [
    "df.rename(columns = {\"Tenure_cleaned\":\"tenure\",\"Average_monthly_charges\":\"avg_monthly_charges\"} , inplace = True)"
   ]
  },
  {
   "cell_type": "code",
   "execution_count": 40,
   "id": "3c666116",
   "metadata": {},
   "outputs": [
    {
     "data": {
      "text/plain": [
       "0        9\n",
       "1        9\n",
       "2        4\n",
       "3       13\n",
       "4        3\n",
       "        ..\n",
       "7038    13\n",
       "7039    22\n",
       "7040     2\n",
       "7041    68\n",
       "7042    63\n",
       "Name: tenure, Length: 7032, dtype: int64"
      ]
     },
     "execution_count": 40,
     "metadata": {},
     "output_type": "execute_result"
    }
   ],
   "source": [
    "df.tenure"
   ]
  },
  {
   "cell_type": "code",
   "execution_count": null,
   "id": "c8a5038e",
   "metadata": {},
   "outputs": [],
   "source": []
  }
 ],
 "metadata": {
  "kernelspec": {
   "display_name": "Python 3",
   "language": "python",
   "name": "python3"
  },
  "language_info": {
   "codemirror_mode": {
    "name": "ipython",
    "version": 3
   },
   "file_extension": ".py",
   "mimetype": "text/x-python",
   "name": "python",
   "nbconvert_exporter": "python",
   "pygments_lexer": "ipython3",
   "version": "3.8.8"
  }
 },
 "nbformat": 4,
 "nbformat_minor": 5
}
